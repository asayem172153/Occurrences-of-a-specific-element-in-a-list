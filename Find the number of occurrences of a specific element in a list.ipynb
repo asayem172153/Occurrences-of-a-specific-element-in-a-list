{
  "nbformat": 4,
  "nbformat_minor": 0,
  "metadata": {
    "colab": {
      "provenance": []
    },
    "kernelspec": {
      "name": "python3",
      "display_name": "Python 3"
    },
    "language_info": {
      "name": "python"
    }
  },
  "cells": [
    {
      "cell_type": "code",
      "execution_count": 1,
      "metadata": {
        "colab": {
          "base_uri": "https://localhost:8080/"
        },
        "id": "lXVnrOnjlGZW",
        "outputId": "546b2efd-6369-4873-a241-42d8bbd9c817"
      },
      "outputs": [
        {
          "output_type": "stream",
          "name": "stdout",
          "text": [
            "Enter a number to see its occurrences: 2\n",
            "2 Occurs 4 times\n"
          ]
        }
      ],
      "source": [
        "list1 = [1, 2, 3, 4, 2, 2, 5, 6, 2, 1]\n",
        "\n",
        "num = int(input('Enter a number to see its occurrences: '))\n",
        "count = 0\n",
        "for i in list1:\n",
        "  if i == num:\n",
        "    count +=1\n",
        "\n",
        "print(num,'Occurs',count,'times')"
      ]
    }
  ]
}